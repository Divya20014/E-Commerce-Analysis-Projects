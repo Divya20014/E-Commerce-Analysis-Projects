{
 "cells": [
  {
   "cell_type": "markdown",
   "id": "0ca3c26a",
   "metadata": {},
   "source": [
    "# Bussiness Problems\n",
    "\n"
   ]
  },
  {
   "cell_type": "markdown",
   "id": "c341c0e7",
   "metadata": {},
   "source": [
    "*The file ecommerce_dataset.csv contain a synthetic e-commerce transaction dataset designed to simulate typical online\n",
    "  shopping activites.the data is organized imto 8 columns,each representing key attributes of e-commerce transactions.*"
   ]
  },
  {
   "cell_type": "code",
   "execution_count": 3,
   "id": "62f92ac5",
   "metadata": {},
   "outputs": [],
   "source": [
    "import pandas as pd\n",
    "import numpy as np\n",
    "import seaborn as sns\n",
    "import matplotlib.pyplot as plt\n",
    "import warnings\n",
    "warnings.filterwarnings(\"ignore\")"
   ]
  },
  {
   "cell_type": "code",
   "execution_count": 4,
   "id": "0a1ef871",
   "metadata": {},
   "outputs": [
    {
     "data": {
      "text/html": [
       "<div>\n",
       "<style scoped>\n",
       "    .dataframe tbody tr th:only-of-type {\n",
       "        vertical-align: middle;\n",
       "    }\n",
       "\n",
       "    .dataframe tbody tr th {\n",
       "        vertical-align: top;\n",
       "    }\n",
       "\n",
       "    .dataframe thead th {\n",
       "        text-align: right;\n",
       "    }\n",
       "</style>\n",
       "<table border=\"1\" class=\"dataframe\">\n",
       "  <thead>\n",
       "    <tr style=\"text-align: right;\">\n",
       "      <th></th>\n",
       "      <th>User_ID</th>\n",
       "      <th>Product_ID</th>\n",
       "      <th>Category</th>\n",
       "      <th>Price (Rs.)</th>\n",
       "      <th>Discount (%)</th>\n",
       "      <th>Final_Price(Rs.)</th>\n",
       "      <th>Payment_Method</th>\n",
       "      <th>Purchase_Date</th>\n",
       "    </tr>\n",
       "  </thead>\n",
       "  <tbody>\n",
       "    <tr>\n",
       "      <th>0</th>\n",
       "      <td>337c166f</td>\n",
       "      <td>f414122f-e</td>\n",
       "      <td>Sports</td>\n",
       "      <td>36.53</td>\n",
       "      <td>15</td>\n",
       "      <td>31.05</td>\n",
       "      <td>Net Banking</td>\n",
       "      <td>12-11-2024</td>\n",
       "    </tr>\n",
       "    <tr>\n",
       "      <th>1</th>\n",
       "      <td>d38a19bf</td>\n",
       "      <td>fde50f9c-5</td>\n",
       "      <td>Clothing</td>\n",
       "      <td>232.79</td>\n",
       "      <td>20</td>\n",
       "      <td>186.23</td>\n",
       "      <td>Net Banking</td>\n",
       "      <td>09-02-2024</td>\n",
       "    </tr>\n",
       "    <tr>\n",
       "      <th>2</th>\n",
       "      <td>d7f5f0b0</td>\n",
       "      <td>0d96fc90-3</td>\n",
       "      <td>Sports</td>\n",
       "      <td>317.02</td>\n",
       "      <td>25</td>\n",
       "      <td>237.76</td>\n",
       "      <td>Credit Card</td>\n",
       "      <td>01-09-2024</td>\n",
       "    </tr>\n",
       "    <tr>\n",
       "      <th>3</th>\n",
       "      <td>395d4994</td>\n",
       "      <td>964fc44b-d</td>\n",
       "      <td>Toys</td>\n",
       "      <td>173.19</td>\n",
       "      <td>25</td>\n",
       "      <td>129.89</td>\n",
       "      <td>UPI</td>\n",
       "      <td>01-04-2024</td>\n",
       "    </tr>\n",
       "    <tr>\n",
       "      <th>4</th>\n",
       "      <td>a83c145c</td>\n",
       "      <td>d70e2fc6-e</td>\n",
       "      <td>Beauty</td>\n",
       "      <td>244.80</td>\n",
       "      <td>20</td>\n",
       "      <td>195.84</td>\n",
       "      <td>Net Banking</td>\n",
       "      <td>27-09-2024</td>\n",
       "    </tr>\n",
       "    <tr>\n",
       "      <th>...</th>\n",
       "      <td>...</td>\n",
       "      <td>...</td>\n",
       "      <td>...</td>\n",
       "      <td>...</td>\n",
       "      <td>...</td>\n",
       "      <td>...</td>\n",
       "      <td>...</td>\n",
       "      <td>...</td>\n",
       "    </tr>\n",
       "    <tr>\n",
       "      <th>3655</th>\n",
       "      <td>67abda0a</td>\n",
       "      <td>28714133-6</td>\n",
       "      <td>Beauty</td>\n",
       "      <td>486.79</td>\n",
       "      <td>0</td>\n",
       "      <td>486.79</td>\n",
       "      <td>UPI</td>\n",
       "      <td>14-05-2024</td>\n",
       "    </tr>\n",
       "    <tr>\n",
       "      <th>3656</th>\n",
       "      <td>34ebc1a0</td>\n",
       "      <td>08838c2c-9</td>\n",
       "      <td>Toys</td>\n",
       "      <td>212.87</td>\n",
       "      <td>15</td>\n",
       "      <td>180.94</td>\n",
       "      <td>Cash on Delivery</td>\n",
       "      <td>19-11-2024</td>\n",
       "    </tr>\n",
       "    <tr>\n",
       "      <th>3657</th>\n",
       "      <td>1defd3b1</td>\n",
       "      <td>c39a4f16-6</td>\n",
       "      <td>Home &amp; Kitchen</td>\n",
       "      <td>389.76</td>\n",
       "      <td>0</td>\n",
       "      <td>389.76</td>\n",
       "      <td>Net Banking</td>\n",
       "      <td>07-08-2024</td>\n",
       "    </tr>\n",
       "    <tr>\n",
       "      <th>3658</th>\n",
       "      <td>0611293d</td>\n",
       "      <td>b4f67f96-9</td>\n",
       "      <td>Electronics</td>\n",
       "      <td>447.66</td>\n",
       "      <td>30</td>\n",
       "      <td>313.36</td>\n",
       "      <td>UPI</td>\n",
       "      <td>21-05-2024</td>\n",
       "    </tr>\n",
       "    <tr>\n",
       "      <th>3659</th>\n",
       "      <td>e73ad07c</td>\n",
       "      <td>a5d07442-d</td>\n",
       "      <td>Home &amp; Kitchen</td>\n",
       "      <td>235.77</td>\n",
       "      <td>30</td>\n",
       "      <td>165.04</td>\n",
       "      <td>UPI</td>\n",
       "      <td>14-04-2024</td>\n",
       "    </tr>\n",
       "  </tbody>\n",
       "</table>\n",
       "<p>3660 rows × 8 columns</p>\n",
       "</div>"
      ],
      "text/plain": [
       "       User_ID  Product_ID        Category  Price (Rs.)  Discount (%)  \\\n",
       "0     337c166f  f414122f-e          Sports        36.53            15   \n",
       "1     d38a19bf  fde50f9c-5        Clothing       232.79            20   \n",
       "2     d7f5f0b0  0d96fc90-3          Sports       317.02            25   \n",
       "3     395d4994  964fc44b-d            Toys       173.19            25   \n",
       "4     a83c145c  d70e2fc6-e          Beauty       244.80            20   \n",
       "...        ...         ...             ...          ...           ...   \n",
       "3655  67abda0a  28714133-6          Beauty       486.79             0   \n",
       "3656  34ebc1a0  08838c2c-9            Toys       212.87            15   \n",
       "3657  1defd3b1  c39a4f16-6  Home & Kitchen       389.76             0   \n",
       "3658  0611293d  b4f67f96-9     Electronics       447.66            30   \n",
       "3659  e73ad07c  a5d07442-d  Home & Kitchen       235.77            30   \n",
       "\n",
       "      Final_Price(Rs.)    Payment_Method Purchase_Date  \n",
       "0                31.05       Net Banking    12-11-2024  \n",
       "1               186.23       Net Banking    09-02-2024  \n",
       "2               237.76       Credit Card    01-09-2024  \n",
       "3               129.89               UPI    01-04-2024  \n",
       "4               195.84       Net Banking    27-09-2024  \n",
       "...                ...               ...           ...  \n",
       "3655            486.79               UPI    14-05-2024  \n",
       "3656            180.94  Cash on Delivery    19-11-2024  \n",
       "3657            389.76       Net Banking    07-08-2024  \n",
       "3658            313.36               UPI    21-05-2024  \n",
       "3659            165.04               UPI    14-04-2024  \n",
       "\n",
       "[3660 rows x 8 columns]"
      ]
     },
     "execution_count": 4,
     "metadata": {},
     "output_type": "execute_result"
    }
   ],
   "source": [
    "df=pd.read_csv(\"ecommerce_dataset_updated.csv\")\n",
    "df"
   ]
  },
  {
   "cell_type": "markdown",
   "id": "67b908ae",
   "metadata": {},
   "source": [
    "# Data understanding"
   ]
  },
  {
   "cell_type": "code",
   "execution_count": 5,
   "id": "675ff09e",
   "metadata": {},
   "outputs": [
    {
     "data": {
      "text/plain": [
       "(3660, 8)"
      ]
     },
     "execution_count": 5,
     "metadata": {},
     "output_type": "execute_result"
    }
   ],
   "source": [
    "df.shape"
   ]
  },
  {
   "cell_type": "code",
   "execution_count": 6,
   "id": "31e06135",
   "metadata": {},
   "outputs": [
    {
     "data": {
      "text/plain": [
       "Index(['User_ID', 'Product_ID', 'Category', 'Price (Rs.)', 'Discount (%)',\n",
       "       'Final_Price(Rs.)', 'Payment_Method', 'Purchase_Date'],\n",
       "      dtype='object')"
      ]
     },
     "execution_count": 6,
     "metadata": {},
     "output_type": "execute_result"
    }
   ],
   "source": [
    "df.columns"
   ]
  },
  {
   "cell_type": "code",
   "execution_count": 7,
   "id": "90f61dfa",
   "metadata": {},
   "outputs": [
    {
     "data": {
      "text/plain": [
       "0"
      ]
     },
     "execution_count": 7,
     "metadata": {},
     "output_type": "execute_result"
    }
   ],
   "source": [
    "df.duplicated().sum()"
   ]
  },
  {
   "cell_type": "code",
   "execution_count": 8,
   "id": "72029ad1",
   "metadata": {},
   "outputs": [
    {
     "data": {
      "text/plain": [
       "User_ID             0\n",
       "Product_ID          0\n",
       "Category            0\n",
       "Price (Rs.)         0\n",
       "Discount (%)        0\n",
       "Final_Price(Rs.)    0\n",
       "Payment_Method      0\n",
       "Purchase_Date       0\n",
       "dtype: int64"
      ]
     },
     "execution_count": 8,
     "metadata": {},
     "output_type": "execute_result"
    }
   ],
   "source": [
    "df.isnull().sum()"
   ]
  },
  {
   "cell_type": "code",
   "execution_count": 9,
   "id": "5a1f030b",
   "metadata": {},
   "outputs": [
    {
     "data": {
      "text/plain": [
       "array(['337c166f', 'd38a19bf', 'd7f5f0b0', ..., '1defd3b1', '0611293d',\n",
       "       'e73ad07c'], dtype=object)"
      ]
     },
     "execution_count": 9,
     "metadata": {},
     "output_type": "execute_result"
    }
   ],
   "source": [
    "df[\"User_ID\"].unique()"
   ]
  },
  {
   "cell_type": "code",
   "execution_count": 10,
   "id": "23e5985b",
   "metadata": {},
   "outputs": [
    {
     "data": {
      "text/plain": [
       "User_ID\n",
       "337c166f    1\n",
       "c0d0e868    1\n",
       "5f0bbdfb    1\n",
       "dd7cd6f2    1\n",
       "3bdcafad    1\n",
       "           ..\n",
       "e3a22f45    1\n",
       "afd642ef    1\n",
       "160a70d8    1\n",
       "7a8fb819    1\n",
       "e73ad07c    1\n",
       "Name: count, Length: 3660, dtype: int64"
      ]
     },
     "execution_count": 10,
     "metadata": {},
     "output_type": "execute_result"
    }
   ],
   "source": [
    "df[\"User_ID\"].value_counts()"
   ]
  },
  {
   "cell_type": "markdown",
   "id": "987a534e",
   "metadata": {},
   "source": [
    "# Drop the unimportant columns"
   ]
  },
  {
   "cell_type": "code",
   "execution_count": 11,
   "id": "d7398fad",
   "metadata": {},
   "outputs": [],
   "source": [
    "df.drop(columns=\"User_ID\",inplace=True)"
   ]
  },
  {
   "cell_type": "code",
   "execution_count": 12,
   "id": "120db17c",
   "metadata": {},
   "outputs": [
    {
     "data": {
      "text/plain": [
       "array(['f414122f-e', 'fde50f9c-5', '0d96fc90-3', ..., 'c39a4f16-6',\n",
       "       'b4f67f96-9', 'a5d07442-d'], dtype=object)"
      ]
     },
     "execution_count": 12,
     "metadata": {},
     "output_type": "execute_result"
    }
   ],
   "source": [
    "df[\"Product_ID\"].unique()"
   ]
  },
  {
   "cell_type": "code",
   "execution_count": 13,
   "id": "77f96dd9",
   "metadata": {},
   "outputs": [
    {
     "data": {
      "text/plain": [
       "Product_ID\n",
       "f414122f-e    1\n",
       "fa0af2c6-1    1\n",
       "df20c732-7    1\n",
       "9c83496b-c    1\n",
       "49cf6bb4-d    1\n",
       "             ..\n",
       "aaba4dcc-7    1\n",
       "0169a3ab-a    1\n",
       "73014b58-9    1\n",
       "d885509a-e    1\n",
       "a5d07442-d    1\n",
       "Name: count, Length: 3660, dtype: int64"
      ]
     },
     "execution_count": 13,
     "metadata": {},
     "output_type": "execute_result"
    }
   ],
   "source": [
    "df[\"Product_ID\"].value_counts()"
   ]
  },
  {
   "cell_type": "code",
   "execution_count": 14,
   "id": "20c025e0",
   "metadata": {},
   "outputs": [
    {
     "data": {
      "text/plain": [
       "array(['Sports', 'Clothing', 'Toys', 'Beauty', 'Books', 'Home & Kitchen',\n",
       "       'Electronics'], dtype=object)"
      ]
     },
     "execution_count": 14,
     "metadata": {},
     "output_type": "execute_result"
    }
   ],
   "source": [
    "df[\"Category\"].unique()"
   ]
  },
  {
   "cell_type": "code",
   "execution_count": 15,
   "id": "0c7b2a26",
   "metadata": {},
   "outputs": [
    {
     "data": {
      "text/plain": [
       "Category\n",
       "Home & Kitchen    549\n",
       "Books             534\n",
       "Clothing          531\n",
       "Toys              523\n",
       "Sports            520\n",
       "Beauty            505\n",
       "Electronics       498\n",
       "Name: count, dtype: int64"
      ]
     },
     "execution_count": 15,
     "metadata": {},
     "output_type": "execute_result"
    }
   ],
   "source": [
    "df[\"Category\"].value_counts()"
   ]
  },
  {
   "cell_type": "code",
   "execution_count": 16,
   "id": "0cbbe451",
   "metadata": {},
   "outputs": [
    {
     "data": {
      "text/plain": [
       "array([ 36.53, 232.79, 317.02, ..., 212.87, 389.76, 235.77])"
      ]
     },
     "execution_count": 16,
     "metadata": {},
     "output_type": "execute_result"
    }
   ],
   "source": [
    "df[\"Price (Rs.)\"].unique()"
   ]
  },
  {
   "cell_type": "code",
   "execution_count": 17,
   "id": "c3df50c0",
   "metadata": {},
   "outputs": [
    {
     "data": {
      "text/plain": [
       "Price (Rs.)\n",
       "286.09    3\n",
       "335.09    3\n",
       "410.07    3\n",
       "185.53    3\n",
       "195.46    2\n",
       "         ..\n",
       "436.45    1\n",
       "177.91    1\n",
       "179.55    1\n",
       "301.91    1\n",
       "235.77    1\n",
       "Name: count, Length: 3517, dtype: int64"
      ]
     },
     "execution_count": 17,
     "metadata": {},
     "output_type": "execute_result"
    }
   ],
   "source": [
    "df[\"Price (Rs.)\"].value_counts()"
   ]
  },
  {
   "cell_type": "code",
   "execution_count": 18,
   "id": "f576c1aa",
   "metadata": {},
   "outputs": [
    {
     "data": {
      "text/plain": [
       "array([15, 20, 25, 50,  5, 10,  0, 30], dtype=int64)"
      ]
     },
     "execution_count": 18,
     "metadata": {},
     "output_type": "execute_result"
    }
   ],
   "source": [
    "df[\"Discount (%)\"].unique()"
   ]
  },
  {
   "cell_type": "code",
   "execution_count": 19,
   "id": "7e1f8870",
   "metadata": {},
   "outputs": [],
   "source": [
    "df['Discount (%)'].replace(0, np.nan, inplace=True)"
   ]
  },
  {
   "cell_type": "code",
   "execution_count": 20,
   "id": "bdafc3e3",
   "metadata": {},
   "outputs": [
    {
     "data": {
      "text/plain": [
       "Discount (%)\n",
       "15.0    474\n",
       "10.0    473\n",
       "20.0    472\n",
       "5.0     470\n",
       "30.0    449\n",
       "50.0    430\n",
       "25.0    412\n",
       "Name: count, dtype: int64"
      ]
     },
     "execution_count": 20,
     "metadata": {},
     "output_type": "execute_result"
    }
   ],
   "source": [
    "df[\"Discount (%)\"].value_counts()"
   ]
  },
  {
   "cell_type": "code",
   "execution_count": 21,
   "id": "bff7b87e",
   "metadata": {},
   "outputs": [
    {
     "data": {
      "text/plain": [
       "array([ 31.05, 186.23, 237.76, ..., 180.94, 389.76, 165.04])"
      ]
     },
     "execution_count": 21,
     "metadata": {},
     "output_type": "execute_result"
    }
   ],
   "source": [
    "df[\"Final_Price(Rs.)\"].unique()"
   ]
  },
  {
   "cell_type": "code",
   "execution_count": 22,
   "id": "1a90d6e7",
   "metadata": {},
   "outputs": [
    {
     "data": {
      "text/plain": [
       "Final_Price(Rs.)\n",
       "259.10    3\n",
       "124.78    2\n",
       "309.09    2\n",
       "153.82    2\n",
       "249.98    2\n",
       "         ..\n",
       "296.06    1\n",
       "301.91    1\n",
       "193.02    1\n",
       "165.26    1\n",
       "165.04    1\n",
       "Name: count, Length: 3514, dtype: int64"
      ]
     },
     "execution_count": 22,
     "metadata": {},
     "output_type": "execute_result"
    }
   ],
   "source": [
    "df[\"Final_Price(Rs.)\"].value_counts()"
   ]
  },
  {
   "cell_type": "code",
   "execution_count": 23,
   "id": "b34b7256",
   "metadata": {},
   "outputs": [
    {
     "data": {
      "text/plain": [
       "array(['Net Banking', 'Credit Card', 'UPI', 'Cash on Delivery',\n",
       "       'Debit Card'], dtype=object)"
      ]
     },
     "execution_count": 23,
     "metadata": {},
     "output_type": "execute_result"
    }
   ],
   "source": [
    "df[\"Payment_Method\"].unique()"
   ]
  },
  {
   "cell_type": "code",
   "execution_count": 24,
   "id": "8b1f988f",
   "metadata": {},
   "outputs": [
    {
     "data": {
      "text/plain": [
       "Payment_Method\n",
       "Credit Card         760\n",
       "UPI                 757\n",
       "Debit Card          731\n",
       "Net Banking         716\n",
       "Cash on Delivery    696\n",
       "Name: count, dtype: int64"
      ]
     },
     "execution_count": 24,
     "metadata": {},
     "output_type": "execute_result"
    }
   ],
   "source": [
    "df[\"Payment_Method\"].value_counts()"
   ]
  },
  {
   "cell_type": "code",
   "execution_count": 25,
   "id": "6d9919c3",
   "metadata": {},
   "outputs": [
    {
     "data": {
      "text/plain": [
       "array(['12-11-2024', '09-02-2024', '01-09-2024', '01-04-2024',\n",
       "       '27-09-2024', '08-08-2024', '28-03-2024', '29-05-2024',\n",
       "       '26-02-2024', '11-01-2024', '21-10-2024', '10-09-2024',\n",
       "       '08-03-2024', '10-05-2024', '20-06-2024', '28-04-2024',\n",
       "       '17-08-2024', '13-06-2024', '23-09-2024', '01-06-2024',\n",
       "       '19-04-2024', '07-11-2024', '31-08-2024', '14-09-2024',\n",
       "       '03-02-2024', '14-04-2024', '06-08-2024', '05-08-2024',\n",
       "       '28-06-2024', '22-04-2024', '07-10-2024', '20-03-2024',\n",
       "       '10-03-2024', '21-05-2024', '15-01-2024', '21-04-2024',\n",
       "       '03-08-2024', '01-07-2024', '20-02-2024', '25-08-2024',\n",
       "       '17-05-2024', '18-06-2024', '15-09-2024', '12-05-2024',\n",
       "       '25-02-2024', '30-10-2024', '11-08-2024', '03-06-2024',\n",
       "       '08-10-2024', '04-04-2024', '08-05-2024', '30-06-2024',\n",
       "       '04-10-2024', '22-10-2024', '29-08-2024', '10-08-2024',\n",
       "       '22-08-2024', '24-07-2024', '16-09-2024', '18-07-2024',\n",
       "       '07-07-2024', '09-03-2024', '29-01-2024', '27-02-2024',\n",
       "       '13-09-2024', '28-01-2024', '19-10-2024', '17-09-2024',\n",
       "       '11-03-2024', '17-10-2024', '21-11-2024', '09-01-2024',\n",
       "       '03-09-2024', '04-09-2024', '22-06-2024', '18-09-2024',\n",
       "       '11-11-2024', '11-09-2024', '13-02-2024', '05-10-2024',\n",
       "       '31-01-2024', '11-06-2024', '27-03-2024', '15-06-2024',\n",
       "       '24-04-2024', '07-09-2024', '23-08-2024', '02-04-2024',\n",
       "       '22-02-2024', '03-01-2024', '05-09-2024', '01-05-2024',\n",
       "       '27-01-2024', '31-05-2024', '30-07-2024', '29-04-2024',\n",
       "       '25-05-2024', '24-05-2024', '24-02-2024', '24-09-2024',\n",
       "       '16-04-2024', '11-10-2024', '12-10-2024', '18-11-2024',\n",
       "       '12-06-2024', '15-03-2024', '14-05-2024', '18-05-2024',\n",
       "       '05-07-2024', '22-07-2024', '17-04-2024', '12-04-2024',\n",
       "       '02-06-2024', '10-02-2024', '14-03-2024', '11-04-2024',\n",
       "       '07-05-2024', '02-07-2024', '31-07-2024', '09-05-2024',\n",
       "       '21-02-2024', '09-06-2024', '02-02-2024', '24-03-2024',\n",
       "       '17-11-2024', '18-08-2024', '10-04-2024', '29-03-2024',\n",
       "       '11-07-2024', '07-06-2024', '05-11-2024', '20-07-2024',\n",
       "       '03-07-2024', '13-10-2024', '28-05-2024', '05-02-2024',\n",
       "       '06-03-2024', '26-07-2024', '25-06-2024', '03-04-2024',\n",
       "       '20-10-2024', '29-10-2024', '02-10-2024', '08-07-2024',\n",
       "       '20-11-2024', '04-08-2024', '13-11-2024', '14-11-2024',\n",
       "       '18-02-2024', '14-01-2024', '19-03-2024', '25-10-2024',\n",
       "       '10-11-2024', '30-04-2024', '11-05-2024', '16-11-2024',\n",
       "       '02-11-2024', '08-11-2024', '19-06-2024', '16-10-2024',\n",
       "       '04-06-2024', '20-01-2024', '23-07-2024', '05-06-2024',\n",
       "       '28-07-2024', '15-07-2024', '15-11-2024', '17-06-2024',\n",
       "       '06-01-2024', '24-10-2024', '13-08-2024', '12-09-2024',\n",
       "       '15-05-2024', '27-05-2024', '11-02-2024', '06-09-2024',\n",
       "       '27-08-2024', '23-06-2024', '19-05-2024', '02-08-2024',\n",
       "       '27-04-2024', '29-06-2024', '22-09-2024', '17-02-2024',\n",
       "       '19-09-2024', '10-10-2024', '31-10-2024', '07-03-2024',\n",
       "       '26-10-2024', '07-02-2024', '14-02-2024', '07-04-2024',\n",
       "       '02-01-2024', '20-09-2024', '07-01-2024', '21-01-2024',\n",
       "       '24-08-2024', '24-01-2024', '05-01-2024', '17-03-2024',\n",
       "       '29-09-2024', '18-10-2024', '24-06-2024', '27-07-2024',\n",
       "       '30-05-2024', '23-03-2024', '26-06-2024', '05-05-2024',\n",
       "       '26-03-2024', '12-01-2024', '29-02-2024', '18-03-2024',\n",
       "       '21-08-2024', '05-04-2024', '06-04-2024', '09-11-2024',\n",
       "       '01-08-2024', '15-10-2024', '16-08-2024', '30-08-2024',\n",
       "       '21-03-2024', '09-08-2024', '16-07-2024', '22-05-2024',\n",
       "       '03-03-2024', '16-05-2024', '18-04-2024', '07-08-2024',\n",
       "       '17-01-2024', '06-05-2024', '22-03-2024', '06-10-2024',\n",
       "       '25-09-2024', '26-05-2024', '08-09-2024', '13-01-2024',\n",
       "       '23-02-2024', '04-07-2024', '20-08-2024', '23-05-2024',\n",
       "       '28-02-2024', '06-11-2024', '10-01-2024', '12-03-2024',\n",
       "       '09-07-2024', '25-07-2024', '28-09-2024', '26-04-2024',\n",
       "       '25-03-2024', '08-01-2024', '12-02-2024', '31-03-2024',\n",
       "       '19-07-2024', '16-01-2024', '14-08-2024', '10-06-2024',\n",
       "       '02-09-2024', '19-01-2024', '23-04-2024', '09-04-2024',\n",
       "       '26-08-2024', '13-07-2024', '23-01-2024', '14-10-2024',\n",
       "       '18-01-2024', '09-09-2024', '30-09-2024', '01-03-2024',\n",
       "       '29-07-2024', '04-11-2024', '26-09-2024', '15-08-2024',\n",
       "       '19-11-2024', '04-01-2024', '04-02-2024', '03-11-2024',\n",
       "       '21-09-2024', '01-11-2024', '09-10-2024', '16-06-2024',\n",
       "       '04-03-2024', '23-10-2024', '28-08-2024', '19-08-2024',\n",
       "       '01-10-2024', '13-05-2024', '14-06-2024', '06-02-2024',\n",
       "       '22-01-2024', '03-05-2024', '10-07-2024', '04-05-2024',\n",
       "       '27-10-2024', '13-03-2024', '28-10-2024', '01-02-2024',\n",
       "       '14-07-2024', '05-03-2024', '02-05-2024', '15-02-2024',\n",
       "       '08-02-2024', '01-01-2024', '16-02-2024', '21-07-2024',\n",
       "       '03-10-2024', '25-04-2024', '02-03-2024', '27-06-2024',\n",
       "       '08-06-2024', '08-04-2024', '21-06-2024', '16-03-2024',\n",
       "       '13-04-2024', '17-07-2024', '20-05-2024', '19-02-2024',\n",
       "       '20-04-2024', '30-01-2024', '15-04-2024', '25-01-2024',\n",
       "       '06-06-2024', '30-03-2024', '26-01-2024', '12-07-2024',\n",
       "       '12-08-2024', '06-07-2024'], dtype=object)"
      ]
     },
     "execution_count": 25,
     "metadata": {},
     "output_type": "execute_result"
    }
   ],
   "source": [
    "df[\"Purchase_Date\"].unique()"
   ]
  },
  {
   "cell_type": "code",
   "execution_count": 26,
   "id": "b028e8c2",
   "metadata": {},
   "outputs": [
    {
     "data": {
      "text/plain": [
       "Purchase_Date\n",
       "21-08-2024    21\n",
       "10-03-2024    20\n",
       "12-06-2024    20\n",
       "15-07-2024    19\n",
       "29-03-2024    19\n",
       "              ..\n",
       "04-07-2024     5\n",
       "06-07-2024     5\n",
       "25-01-2024     4\n",
       "16-06-2024     4\n",
       "01-08-2024     3\n",
       "Name: count, Length: 326, dtype: int64"
      ]
     },
     "execution_count": 26,
     "metadata": {},
     "output_type": "execute_result"
    }
   ],
   "source": [
    "df[\"Purchase_Date\"].value_counts()"
   ]
  },
  {
   "cell_type": "code",
   "execution_count": 27,
   "id": "76457e06",
   "metadata": {},
   "outputs": [
    {
     "data": {
      "text/plain": [
       "Product_ID           object\n",
       "Category             object\n",
       "Price (Rs.)         float64\n",
       "Discount (%)        float64\n",
       "Final_Price(Rs.)    float64\n",
       "Payment_Method       object\n",
       "Purchase_Date        object\n",
       "dtype: object"
      ]
     },
     "execution_count": 27,
     "metadata": {},
     "output_type": "execute_result"
    }
   ],
   "source": [
    "df.dtypes"
   ]
  },
  {
   "cell_type": "markdown",
   "id": "66813283",
   "metadata": {},
   "source": [
    "# Data Preprocessing"
   ]
  },
  {
   "cell_type": "code",
   "execution_count": 28,
   "id": "d7ef6850",
   "metadata": {},
   "outputs": [],
   "source": [
    "# no wrong data"
   ]
  },
  {
   "cell_type": "code",
   "execution_count": 29,
   "id": "2ee08076",
   "metadata": {},
   "outputs": [],
   "source": [
    "# no missing values"
   ]
  },
  {
   "cell_type": "code",
   "execution_count": 30,
   "id": "7c698707",
   "metadata": {},
   "outputs": [],
   "source": [
    "# change the datatype"
   ]
  },
  {
   "cell_type": "code",
   "execution_count": 31,
   "id": "02742e21",
   "metadata": {},
   "outputs": [
    {
     "data": {
      "text/plain": [
       "Product_ID           object\n",
       "Category             object\n",
       "Price (Rs.)         float64\n",
       "Discount (%)        float64\n",
       "Final_Price(Rs.)    float64\n",
       "Payment_Method       object\n",
       "Purchase_Date        object\n",
       "dtype: object"
      ]
     },
     "execution_count": 31,
     "metadata": {},
     "output_type": "execute_result"
    }
   ],
   "source": [
    "df.dtypes"
   ]
  },
  {
   "cell_type": "code",
   "execution_count": 32,
   "id": "1c895ce4",
   "metadata": {},
   "outputs": [],
   "source": [
    "df['Purchase_Date'] = pd.to_datetime(df['Purchase_Date'], format='%d-%m-%Y')"
   ]
  },
  {
   "cell_type": "code",
   "execution_count": 33,
   "id": "18d33696",
   "metadata": {},
   "outputs": [
    {
     "name": "stdout",
     "output_type": "stream",
     "text": [
      "      Product_ID        Category  Price (Rs.)  Discount (%)  Final_Price(Rs.)  \\\n",
      "0     f414122f-e          Sports        36.53          15.0             31.05   \n",
      "1     fde50f9c-5        Clothing       232.79          20.0            186.23   \n",
      "2     0d96fc90-3          Sports       317.02          25.0            237.76   \n",
      "3     964fc44b-d            Toys       173.19          25.0            129.89   \n",
      "4     d70e2fc6-e          Beauty       244.80          20.0            195.84   \n",
      "...          ...             ...          ...           ...               ...   \n",
      "3655  28714133-6          Beauty       486.79           NaN            486.79   \n",
      "3656  08838c2c-9            Toys       212.87          15.0            180.94   \n",
      "3657  c39a4f16-6  Home & Kitchen       389.76           NaN            389.76   \n",
      "3658  b4f67f96-9     Electronics       447.66          30.0            313.36   \n",
      "3659  a5d07442-d  Home & Kitchen       235.77          30.0            165.04   \n",
      "\n",
      "        Payment_Method Purchase_Date  Day  Month  Year  \n",
      "0          Net Banking    2024-11-12   12     11  2024  \n",
      "1          Net Banking    2024-02-09    9      2  2024  \n",
      "2          Credit Card    2024-09-01    1      9  2024  \n",
      "3                  UPI    2024-04-01    1      4  2024  \n",
      "4          Net Banking    2024-09-27   27      9  2024  \n",
      "...                ...           ...  ...    ...   ...  \n",
      "3655               UPI    2024-05-14   14      5  2024  \n",
      "3656  Cash on Delivery    2024-11-19   19     11  2024  \n",
      "3657       Net Banking    2024-08-07    7      8  2024  \n",
      "3658               UPI    2024-05-21   21      5  2024  \n",
      "3659               UPI    2024-04-14   14      4  2024  \n",
      "\n",
      "[3660 rows x 10 columns]\n"
     ]
    }
   ],
   "source": [
    "# Extract day, month, and year into separate columns\n",
    "df['Day'] = df['Purchase_Date'].dt.day\n",
    "df['Month'] = df['Purchase_Date'].dt.month\n",
    "df['Year'] = df['Purchase_Date'].dt.year\n",
    "\n",
    "# Display the updated DataFrame\n",
    "print(df)"
   ]
  },
  {
   "cell_type": "code",
   "execution_count": 34,
   "id": "c88bd438",
   "metadata": {},
   "outputs": [],
   "source": [
    "df.drop(columns=\"Purchase_Date\",inplace=True)"
   ]
  },
  {
   "cell_type": "code",
   "execution_count": 35,
   "id": "71dfa77d",
   "metadata": {},
   "outputs": [],
   "source": [
    "df.drop(columns=\"Day\",inplace=True)"
   ]
  },
  {
   "cell_type": "markdown",
   "id": "276cb040",
   "metadata": {},
   "source": [
    "### Discretization"
   ]
  },
  {
   "cell_type": "code",
   "execution_count": 36,
   "id": "33b6caae",
   "metadata": {},
   "outputs": [
    {
     "name": "stdout",
     "output_type": "stream",
     "text": [
      "  Month\n",
      "0   Nov\n",
      "1   Feb\n",
      "2   Sep\n",
      "3   Apr\n",
      "4   Sep\n"
     ]
    }
   ],
   "source": [
    "# Define the mapping of month numbers to month names\n",
    "month_mapping = {\n",
    "    1: 'Jan', 2: 'Feb', 3: 'Mar', 4: 'Apr',\n",
    "    5: 'May', 6: 'Jun', 7: 'Jul', 8: 'Aug',\n",
    "    9: 'Sep', 10: 'Oct', 11: 'Nov', 12: 'Dec'\n",
    "}\n",
    "\n",
    "# Replace the numerical month values with their categorical names\n",
    "df['Month'] = df['Month'].replace(month_mapping)\n",
    "\n",
    "# Display the updated DataFrame\n",
    "print(df[['Month']].head())\n"
   ]
  },
  {
   "cell_type": "code",
   "execution_count": 37,
   "id": "64eeeabd",
   "metadata": {},
   "outputs": [
    {
     "data": {
      "text/plain": [
       "count    3180.000000\n",
       "mean       21.666667\n",
       "std        13.718358\n",
       "min         5.000000\n",
       "25%        10.000000\n",
       "50%        20.000000\n",
       "75%        30.000000\n",
       "max        50.000000\n",
       "Name: Discount (%), dtype: float64"
      ]
     },
     "execution_count": 37,
     "metadata": {},
     "output_type": "execute_result"
    }
   ],
   "source": [
    "df[\"Discount (%)\"].describe()"
   ]
  },
  {
   "cell_type": "code",
   "execution_count": 38,
   "id": "7c048443",
   "metadata": {},
   "outputs": [
    {
     "name": "stdout",
     "output_type": "stream",
     "text": [
      "   Discount (%) Discount %\n",
      "0          15.0   upto 20%\n",
      "1          20.0   upto 30%\n",
      "2          25.0   upto 30%\n",
      "3          25.0   upto 30%\n",
      "4          20.0   upto 30%\n"
     ]
    }
   ],
   "source": [
    "import pandas as pd\n",
    "\n",
    "# Assuming 'data' is your DataFrame and 'Discount (%)' is a column in it\n",
    "bins = [1, 10, 20, 30, 40, 50]  # Define bins (0-10%, 10-20%, etc.)\n",
    "labels = ['upto 10%', 'upto 20%', 'upto 30%', 'upto 40%', 'upto 50%']  # Labels for bins\n",
    "\n",
    "# Discretize the Discount column\n",
    "df['Discount %'] = pd.cut(df['Discount (%)'], bins=bins, labels=labels, right=False)\n",
    "\n",
    "print(df[['Discount (%)', 'Discount %']].head())\n"
   ]
  },
  {
   "cell_type": "code",
   "execution_count": 39,
   "id": "5a290431",
   "metadata": {},
   "outputs": [],
   "source": [
    "df.drop(columns=\"Discount (%)\",inplace=True)"
   ]
  },
  {
   "cell_type": "code",
   "execution_count": 40,
   "id": "29451665",
   "metadata": {},
   "outputs": [
    {
     "data": {
      "text/plain": [
       "Product_ID            object\n",
       "Category              object\n",
       "Price (Rs.)          float64\n",
       "Final_Price(Rs.)     float64\n",
       "Payment_Method        object\n",
       "Month                 object\n",
       "Year                   int32\n",
       "Discount %          category\n",
       "dtype: object"
      ]
     },
     "execution_count": 40,
     "metadata": {},
     "output_type": "execute_result"
    }
   ],
   "source": [
    "df.dtypes"
   ]
  },
  {
   "cell_type": "code",
   "execution_count": 41,
   "id": "741cc202",
   "metadata": {},
   "outputs": [],
   "source": [
    "# no transformation"
   ]
  },
  {
   "cell_type": "code",
   "execution_count": 42,
   "id": "676b3abb",
   "metadata": {},
   "outputs": [],
   "source": [
    "continous=[\"Price (Rs.)\",\"Final_Price(Rs.)\"]\n",
    "DIscrete_count=[\"Year\"]\n",
    "Discrete_categorial=[\"Category\",\"Payment_Method\",\"Month\",\"Discount %\"]"
   ]
  },
  {
   "cell_type": "markdown",
   "id": "f6965f9d",
   "metadata": {},
   "source": [
    "# Exploratory Data Analysis(EDA)"
   ]
  },
  {
   "cell_type": "markdown",
   "id": "5b8792b4",
   "metadata": {},
   "source": [
    "### for continous variables"
   ]
  },
  {
   "cell_type": "code",
   "execution_count": 43,
   "id": "c42f7c20",
   "metadata": {},
   "outputs": [
    {
     "data": {
      "text/html": [
       "<div>\n",
       "<style scoped>\n",
       "    .dataframe tbody tr th:only-of-type {\n",
       "        vertical-align: middle;\n",
       "    }\n",
       "\n",
       "    .dataframe tbody tr th {\n",
       "        vertical-align: top;\n",
       "    }\n",
       "\n",
       "    .dataframe thead th {\n",
       "        text-align: right;\n",
       "    }\n",
       "</style>\n",
       "<table border=\"1\" class=\"dataframe\">\n",
       "  <thead>\n",
       "    <tr style=\"text-align: right;\">\n",
       "      <th></th>\n",
       "      <th>Price (Rs.)</th>\n",
       "      <th>Final_Price(Rs.)</th>\n",
       "    </tr>\n",
       "  </thead>\n",
       "  <tbody>\n",
       "    <tr>\n",
       "      <th>count</th>\n",
       "      <td>3660.000000</td>\n",
       "      <td>3660.000000</td>\n",
       "    </tr>\n",
       "    <tr>\n",
       "      <th>mean</th>\n",
       "      <td>254.800675</td>\n",
       "      <td>206.906579</td>\n",
       "    </tr>\n",
       "    <tr>\n",
       "      <th>std</th>\n",
       "      <td>141.682621</td>\n",
       "      <td>122.687844</td>\n",
       "    </tr>\n",
       "    <tr>\n",
       "      <th>min</th>\n",
       "      <td>10.090000</td>\n",
       "      <td>5.890000</td>\n",
       "    </tr>\n",
       "    <tr>\n",
       "      <th>25%</th>\n",
       "      <td>134.012500</td>\n",
       "      <td>104.512500</td>\n",
       "    </tr>\n",
       "    <tr>\n",
       "      <th>50%</th>\n",
       "      <td>253.845000</td>\n",
       "      <td>199.185000</td>\n",
       "    </tr>\n",
       "    <tr>\n",
       "      <th>75%</th>\n",
       "      <td>377.595000</td>\n",
       "      <td>304.117500</td>\n",
       "    </tr>\n",
       "    <tr>\n",
       "      <th>max</th>\n",
       "      <td>499.960000</td>\n",
       "      <td>496.820000</td>\n",
       "    </tr>\n",
       "  </tbody>\n",
       "</table>\n",
       "</div>"
      ],
      "text/plain": [
       "       Price (Rs.)  Final_Price(Rs.)\n",
       "count  3660.000000       3660.000000\n",
       "mean    254.800675        206.906579\n",
       "std     141.682621        122.687844\n",
       "min      10.090000          5.890000\n",
       "25%     134.012500        104.512500\n",
       "50%     253.845000        199.185000\n",
       "75%     377.595000        304.117500\n",
       "max     499.960000        496.820000"
      ]
     },
     "execution_count": 43,
     "metadata": {},
     "output_type": "execute_result"
    }
   ],
   "source": [
    "df[continous].describe()"
   ]
  },
  {
   "cell_type": "code",
   "execution_count": 44,
   "id": "b9e4a006",
   "metadata": {},
   "outputs": [
    {
     "data": {
      "text/plain": [
       "Price (Rs.)        -0.005351\n",
       "Final_Price(Rs.)    0.237604\n",
       "dtype: float64"
      ]
     },
     "execution_count": 44,
     "metadata": {},
     "output_type": "execute_result"
    }
   ],
   "source": [
    "df[continous].skew()"
   ]
  },
  {
   "cell_type": "code",
   "execution_count": 45,
   "id": "26258ba4",
   "metadata": {},
   "outputs": [
    {
     "data": {
      "image/png": "[encoded data removed]",
      "text/plain": [
       "<Figure size 640x480 with 2 Axes>"
      ]
     },
     "metadata": {},
     "output_type": "display_data"
    }
   ],
   "source": [
    "sns.heatmap(df[continous].corr(),annot=True)\n",
    "plt.show()"
   ]
  },
  {
   "cell_type": "code",
   "execution_count": 46,
   "id": "db933714",
   "metadata": {},
   "outputs": [
    {
     "data": {
      "image/png": "[encoded data removed]",
      "text/plain": [
       "<Figure size 500x500 with 6 Axes>"
      ]
     },
     "metadata": {},
     "output_type": "display_data"
    }
   ],
   "source": [
    "sns.pairplot(df[continous])\n",
    "plt.show()"
   ]
  },
  {
   "cell_type": "code",
   "execution_count": 47,
   "id": "5de22b5b",
   "metadata": {},
   "outputs": [
    {
     "data": {
      "image/png": "[encoded data removed]",
      "text/plain": [
       "<Figure size 640x480 with 1 Axes>"
      ]
     },
     "metadata": {},
     "output_type": "display_data"
    }
   ],
   "source": [
    "sns.boxplot(df[\"Price (Rs.)\"])\n",
    "plt.show()"
   ]
  },
  {
   "cell_type": "code",
   "execution_count": 48,
   "id": "843eeaeb",
   "metadata": {},
   "outputs": [
    {
     "data": {
      "image/png": "[encoded data removed]",
      "text/plain": [
       "<Figure size 640x480 with 1 Axes>"
      ]
     },
     "metadata": {},
     "output_type": "display_data"
    }
   ],
   "source": [
    "sns.boxplot(df[\"Final_Price(Rs.)\"])\n",
    "plt.show()"
   ]
  },
  {
   "cell_type": "markdown",
   "id": "b846e08a",
   "metadata": {},
   "source": [
    "## for continous variable"
   ]
  },
  {
   "cell_type": "code",
   "execution_count": 61,
   "id": "8af1420e",
   "metadata": {},
   "outputs": [
    {
     "data": {
      "image/png": "[encoded data removed]",
      "text/plain": [
       "<Figure size 2000x2000 with 4 Axes>"
      ]
     },
     "metadata": {},
     "output_type": "display_data"
    }
   ],
   "source": [
    "plt.figure(figsize=(20, 20))\n",
    "\n",
    "plt.subplot(2,2,1)\n",
    "sns.countplot(x=df[\"Category\"])\n",
    "\n",
    "plt.subplot(2,2,2)\n",
    "sns.countplot(x=df[\"Payment_Method\"])\n",
    "\n",
    "plt.subplot(2,2,3)\n",
    "sns.countplot(x=df[\"Month\"])\n",
    "\n",
    "plt.subplot(2,2,4)\n",
    "sns.countplot(x=df[\"Discount %\"])\n",
    "\n",
    "plt.show()"
   ]
  },
  {
   "cell_type": "code",
   "execution_count": 51,
   "id": "de40a364",
   "metadata": {},
   "outputs": [
    {
     "data": {
      "text/html": [
       "<div>\n",
       "<style scoped>\n",
       "    .dataframe tbody tr th:only-of-type {\n",
       "        vertical-align: middle;\n",
       "    }\n",
       "\n",
       "    .dataframe tbody tr th {\n",
       "        vertical-align: top;\n",
       "    }\n",
       "\n",
       "    .dataframe thead th {\n",
       "        text-align: right;\n",
       "    }\n",
       "</style>\n",
       "<table border=\"1\" class=\"dataframe\">\n",
       "  <thead>\n",
       "    <tr style=\"text-align: right;\">\n",
       "      <th>Discount %</th>\n",
       "      <th>upto 10%</th>\n",
       "      <th>upto 20%</th>\n",
       "      <th>upto 30%</th>\n",
       "      <th>upto 40%</th>\n",
       "    </tr>\n",
       "    <tr>\n",
       "      <th>Category</th>\n",
       "      <th></th>\n",
       "      <th></th>\n",
       "      <th></th>\n",
       "      <th></th>\n",
       "    </tr>\n",
       "  </thead>\n",
       "  <tbody>\n",
       "    <tr>\n",
       "      <th>Beauty</th>\n",
       "      <td>68</td>\n",
       "      <td>134</td>\n",
       "      <td>112</td>\n",
       "      <td>72</td>\n",
       "    </tr>\n",
       "    <tr>\n",
       "      <th>Books</th>\n",
       "      <td>71</td>\n",
       "      <td>135</td>\n",
       "      <td>131</td>\n",
       "      <td>59</td>\n",
       "    </tr>\n",
       "    <tr>\n",
       "      <th>Clothing</th>\n",
       "      <td>61</td>\n",
       "      <td>162</td>\n",
       "      <td>133</td>\n",
       "      <td>56</td>\n",
       "    </tr>\n",
       "    <tr>\n",
       "      <th>Electronics</th>\n",
       "      <td>59</td>\n",
       "      <td>133</td>\n",
       "      <td>114</td>\n",
       "      <td>60</td>\n",
       "    </tr>\n",
       "    <tr>\n",
       "      <th>Home &amp; Kitchen</th>\n",
       "      <td>68</td>\n",
       "      <td>135</td>\n",
       "      <td>135</td>\n",
       "      <td>74</td>\n",
       "    </tr>\n",
       "    <tr>\n",
       "      <th>Sports</th>\n",
       "      <td>69</td>\n",
       "      <td>113</td>\n",
       "      <td>130</td>\n",
       "      <td>70</td>\n",
       "    </tr>\n",
       "    <tr>\n",
       "      <th>Toys</th>\n",
       "      <td>74</td>\n",
       "      <td>135</td>\n",
       "      <td>129</td>\n",
       "      <td>58</td>\n",
       "    </tr>\n",
       "  </tbody>\n",
       "</table>\n",
       "</div>"
      ],
      "text/plain": [
       "Discount %      upto 10%  upto 20%  upto 30%  upto 40%\n",
       "Category                                              \n",
       "Beauty                68       134       112        72\n",
       "Books                 71       135       131        59\n",
       "Clothing              61       162       133        56\n",
       "Electronics           59       133       114        60\n",
       "Home & Kitchen        68       135       135        74\n",
       "Sports                69       113       130        70\n",
       "Toys                  74       135       129        58"
      ]
     },
     "execution_count": 51,
     "metadata": {},
     "output_type": "execute_result"
    }
   ],
   "source": [
    "pd.crosstab(df[\"Category\"],df[\"Discount %\"])# upto 20% the sales is huge but upto 40% the sales dec"
   ]
  },
  {
   "cell_type": "code",
   "execution_count": 63,
   "id": "c61b6c1a",
   "metadata": {},
   "outputs": [
    {
     "data": {
      "text/html": [
       "<div>\n",
       "<style scoped>\n",
       "    .dataframe tbody tr th:only-of-type {\n",
       "        vertical-align: middle;\n",
       "    }\n",
       "\n",
       "    .dataframe tbody tr th {\n",
       "        vertical-align: top;\n",
       "    }\n",
       "\n",
       "    .dataframe thead th {\n",
       "        text-align: right;\n",
       "    }\n",
       "</style>\n",
       "<table border=\"1\" class=\"dataframe\">\n",
       "  <thead>\n",
       "    <tr style=\"text-align: right;\">\n",
       "      <th>Payment_Method</th>\n",
       "      <th>Cash on Delivery</th>\n",
       "      <th>Credit Card</th>\n",
       "      <th>Debit Card</th>\n",
       "      <th>Net Banking</th>\n",
       "      <th>UPI</th>\n",
       "    </tr>\n",
       "    <tr>\n",
       "      <th>Category</th>\n",
       "      <th></th>\n",
       "      <th></th>\n",
       "      <th></th>\n",
       "      <th></th>\n",
       "      <th></th>\n",
       "    </tr>\n",
       "  </thead>\n",
       "  <tbody>\n",
       "    <tr>\n",
       "      <th>Beauty</th>\n",
       "      <td>99</td>\n",
       "      <td>100</td>\n",
       "      <td>90</td>\n",
       "      <td>96</td>\n",
       "      <td>120</td>\n",
       "    </tr>\n",
       "    <tr>\n",
       "      <th>Books</th>\n",
       "      <td>103</td>\n",
       "      <td>109</td>\n",
       "      <td>105</td>\n",
       "      <td>107</td>\n",
       "      <td>110</td>\n",
       "    </tr>\n",
       "    <tr>\n",
       "      <th>Clothing</th>\n",
       "      <td>109</td>\n",
       "      <td>109</td>\n",
       "      <td>107</td>\n",
       "      <td>98</td>\n",
       "      <td>108</td>\n",
       "    </tr>\n",
       "    <tr>\n",
       "      <th>Electronics</th>\n",
       "      <td>92</td>\n",
       "      <td>105</td>\n",
       "      <td>99</td>\n",
       "      <td>100</td>\n",
       "      <td>102</td>\n",
       "    </tr>\n",
       "    <tr>\n",
       "      <th>Home &amp; Kitchen</th>\n",
       "      <td>96</td>\n",
       "      <td>119</td>\n",
       "      <td>104</td>\n",
       "      <td>112</td>\n",
       "      <td>118</td>\n",
       "    </tr>\n",
       "    <tr>\n",
       "      <th>Sports</th>\n",
       "      <td>106</td>\n",
       "      <td>113</td>\n",
       "      <td>117</td>\n",
       "      <td>91</td>\n",
       "      <td>93</td>\n",
       "    </tr>\n",
       "    <tr>\n",
       "      <th>Toys</th>\n",
       "      <td>91</td>\n",
       "      <td>105</td>\n",
       "      <td>109</td>\n",
       "      <td>112</td>\n",
       "      <td>106</td>\n",
       "    </tr>\n",
       "  </tbody>\n",
       "</table>\n",
       "</div>"
      ],
      "text/plain": [
       "Payment_Method  Cash on Delivery  Credit Card  Debit Card  Net Banking  UPI\n",
       "Category                                                                   \n",
       "Beauty                        99          100          90           96  120\n",
       "Books                        103          109         105          107  110\n",
       "Clothing                     109          109         107           98  108\n",
       "Electronics                   92          105          99          100  102\n",
       "Home & Kitchen                96          119         104          112  118\n",
       "Sports                       106          113         117           91   93\n",
       "Toys                          91          105         109          112  106"
      ]
     },
     "execution_count": 63,
     "metadata": {},
     "output_type": "execute_result"
    }
   ],
   "source": [
    "pd.crosstab(df[\"Category\"],df[\"Payment_Method\"])"
   ]
  },
  {
   "cell_type": "code",
   "execution_count": null,
   "id": "5a0eedbc",
   "metadata": {},
   "outputs": [],
   "source": [
    "pd.set_option('display.max_rows', None)"
   ]
  },
  {
   "cell_type": "code",
   "execution_count": null,
   "id": "38780c0f",
   "metadata": {},
   "outputs": [],
   "source": [
    "df"
   ]
  },
  {
   "cell_type": "code",
   "execution_count": null,
   "id": "bde1b1dc",
   "metadata": {},
   "outputs": [],
   "source": [
    "# Replace the NaN with the No Discount"
   ]
  },
  {
   "cell_type": "code",
   "execution_count": null,
   "id": "6c4ce42b",
   "metadata": {},
   "outputs": [],
   "source": [
    "# If 'Discount %' is a categorical column, set the categories first\n",
    "if df['Discount %'].dtype.name == 'category':\n",
    "    df['Discount %'] = df['Discount %'].cat.add_categories('No Discount')\n",
    "\n",
    "# Replace NaN values with 'No Discount' in the 'Discount %' column\n",
    "df['Discount %'].fillna('No Discount', inplace=True)\n",
    "\n",
    "# Show the updated dataframe\n",
    "print(df)"
   ]
  },
  {
   "cell_type": "code",
   "execution_count": null,
   "id": "30a9192c",
   "metadata": {},
   "outputs": [],
   "source": [
    "df.to_csv(\"clearn_ecommerce_dataset\", index=False)"
   ]
  },
  {
   "cell_type": "markdown",
   "id": "93d04412",
   "metadata": {},
   "source": [
    "# Questions for Analysis"
   ]
  },
  {
   "cell_type": "markdown",
   "id": "21c2eadf",
   "metadata": {},
   "source": [
    " Q1 Which categories (e.g., Sports, Clothing, Beauty) generate the highest revenue?"
   ]
  },
  {
   "cell_type": "markdown",
   "id": "6491f854",
   "metadata": {},
   "source": [
    " Q2 How does the discount percentage affect the final price?"
   ]
  },
  {
   "cell_type": "markdown",
   "id": "3adf1d96",
   "metadata": {},
   "source": [
    "Q3 what paymethod having hights transtion?"
   ]
  },
  {
   "cell_type": "markdown",
   "id": "adeb6b0a",
   "metadata": {},
   "source": [
    "Q4 How does the payment method vary across different categories?"
   ]
  },
  {
   "cell_type": "markdown",
   "id": "55ccc97a",
   "metadata": {},
   "source": [
    "Q5 Which categories have the highest revenue growth month-over-month?"
   ]
  },
  {
   "cell_type": "markdown",
   "id": "16e250c7",
   "metadata": {},
   "source": [
    "Q6. How does discount percentage impact final price across different categories?"
   ]
  }
 ],
 "metadata": {
  "kernelspec": {
   "display_name": "Python 3 (ipykernel)",
   "language": "python",
   "name": "python3"
  },
  "language_info": {
   "codemirror_mode": {
    "name": "ipython",
    "version": 3
   },
   "file_extension": ".py",
   "mimetype": "text/x-python",
   "name": "python",
   "nbconvert_exporter": "python",
   "pygments_lexer": "ipython3",
   "version": "3.11.5"
  }
 },
 "nbformat": 4,
 "nbformat_minor": 5
}
